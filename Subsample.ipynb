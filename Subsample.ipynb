{
 "cells": [
  {
   "cell_type": "code",
   "execution_count": 1,
   "metadata": {},
   "outputs": [],
   "source": [
    "import pandas as pd\n",
    "import tensorflow as tf\n",
    "import numpy as np\n",
    "\n",
    "import os\n",
    "\n",
    "import run_classifier\n",
    "import tokenization\n",
    "import modeling\n",
    "import optimization\n",
    "\n",
    "data = pd.read_csv(\"train.csv\")\n",
    "data = data.drop(['severe_toxicity', 'obscene', 'identity_attack', 'insult', 'threat', 'asian', 'atheist', 'bisexual',\n",
    "                  'black', 'buddhist', 'christian', 'female', 'heterosexual', 'hindu', 'homosexual_gay_or_lesbian',\n",
    "                  'intellectual_or_learning_disability', 'jewish', 'latino', 'male', 'muslim', 'other_disability', \n",
    "                  'other_gender', 'other_race_or_ethnicity', 'other_religion', 'other_sexual_orientation', \n",
    "                  'physical_disability', 'psychiatric_or_mental_illness', 'transgender', 'white', 'created_date', \n",
    "                  'publication_id', 'parent_id', 'article_id', 'rating', 'funny', 'wow', 'sad', 'likes', 'disagree', \n",
    "                  'sexual_explicit', 'identity_annotator_count', 'toxicity_annotator_count'], axis=1)\n"
   ]
  },
  {
   "cell_type": "code",
   "execution_count": 2,
   "metadata": {},
   "outputs": [
    {
     "data": {
      "text/plain": [
       "[0, 1]"
      ]
     },
     "execution_count": 2,
     "metadata": {},
     "output_type": "execute_result"
    }
   ],
   "source": [
    "data['label'] = np.where(data['target']>0.0,1,0)\n",
    "label_list = list(data['label'].unique())\n",
    "label_list"
   ]
  },
  {
   "cell_type": "code",
   "execution_count": 3,
   "metadata": {},
   "outputs": [],
   "source": [
    "no_toxicity = data[data['label'] == 0 ]\n",
    "toxic = data[data['label'] == 1 ]"
   ]
  },
  {
   "cell_type": "code",
   "execution_count": 4,
   "metadata": {},
   "outputs": [
    {
     "name": "stdout",
     "output_type": "stream",
     "text": [
      "540110\n",
      "1264764\n",
      "0.42704409676429755\n"
     ]
    }
   ],
   "source": [
    "print(len(toxic))\n",
    "print(len(no_toxicity))\n",
    "fraction = len(toxic)/len(no_toxicity)\n",
    "print(fraction)"
   ]
  },
  {
   "cell_type": "code",
   "execution_count": 5,
   "metadata": {},
   "outputs": [],
   "source": [
    "no_toxicity = no_toxicity.sample(frac=fraction)"
   ]
  },
  {
   "cell_type": "code",
   "execution_count": 6,
   "metadata": {},
   "outputs": [],
   "source": [
    "subsample = no_toxicity.append(toxic)"
   ]
  },
  {
   "cell_type": "code",
   "execution_count": 7,
   "metadata": {},
   "outputs": [],
   "source": [
    "subsample = subsample.sample(frac=1)"
   ]
  },
  {
   "cell_type": "code",
   "execution_count": 8,
   "metadata": {},
   "outputs": [
    {
     "data": {
      "text/html": [
       "<div>\n",
       "<style scoped>\n",
       "    .dataframe tbody tr th:only-of-type {\n",
       "        vertical-align: middle;\n",
       "    }\n",
       "\n",
       "    .dataframe tbody tr th {\n",
       "        vertical-align: top;\n",
       "    }\n",
       "\n",
       "    .dataframe thead th {\n",
       "        text-align: right;\n",
       "    }\n",
       "</style>\n",
       "<table border=\"1\" class=\"dataframe\">\n",
       "  <thead>\n",
       "    <tr style=\"text-align: right;\">\n",
       "      <th></th>\n",
       "      <th>id</th>\n",
       "      <th>target</th>\n",
       "      <th>comment_text</th>\n",
       "      <th>label</th>\n",
       "    </tr>\n",
       "  </thead>\n",
       "  <tbody>\n",
       "    <tr>\n",
       "      <th>990778</th>\n",
       "      <td>5329439</td>\n",
       "      <td>0.000000</td>\n",
       "      <td>I have 40 acres in Willow. I will sell it to t...</td>\n",
       "      <td>0</td>\n",
       "    </tr>\n",
       "    <tr>\n",
       "      <th>1512687</th>\n",
       "      <td>5972402</td>\n",
       "      <td>0.000000</td>\n",
       "      <td>Whatever cannot be fixed can be replaced.  Who...</td>\n",
       "      <td>0</td>\n",
       "    </tr>\n",
       "    <tr>\n",
       "      <th>1691513</th>\n",
       "      <td>6195919</td>\n",
       "      <td>0.557143</td>\n",
       "      <td>The release of the golden shower videos with t...</td>\n",
       "      <td>1</td>\n",
       "    </tr>\n",
       "    <tr>\n",
       "      <th>1055073</th>\n",
       "      <td>5406739</td>\n",
       "      <td>0.000000</td>\n",
       "      <td>Oh, I agree that it works for devious politici...</td>\n",
       "      <td>0</td>\n",
       "    </tr>\n",
       "    <tr>\n",
       "      <th>905728</th>\n",
       "      <td>5227963</td>\n",
       "      <td>0.400000</td>\n",
       "      <td>Proof that young boys having sex with high sch...</td>\n",
       "      <td>1</td>\n",
       "    </tr>\n",
       "  </tbody>\n",
       "</table>\n",
       "</div>"
      ],
      "text/plain": [
       "              id    target                                       comment_text  \\\n",
       "990778   5329439  0.000000  I have 40 acres in Willow. I will sell it to t...   \n",
       "1512687  5972402  0.000000  Whatever cannot be fixed can be replaced.  Who...   \n",
       "1691513  6195919  0.557143  The release of the golden shower videos with t...   \n",
       "1055073  5406739  0.000000  Oh, I agree that it works for devious politici...   \n",
       "905728   5227963  0.400000  Proof that young boys having sex with high sch...   \n",
       "\n",
       "         label  \n",
       "990778       0  \n",
       "1512687      0  \n",
       "1691513      1  \n",
       "1055073      0  \n",
       "905728       1  "
      ]
     },
     "execution_count": 8,
     "metadata": {},
     "output_type": "execute_result"
    }
   ],
   "source": [
    "subsample.head()"
   ]
  },
  {
   "cell_type": "code",
   "execution_count": 9,
   "metadata": {},
   "outputs": [],
   "source": [
    "subsample.to_csv(\"subsample.csv\",index=False)"
   ]
  }
 ],
 "metadata": {
  "kernelspec": {
   "display_name": "Python 3",
   "language": "python",
   "name": "python3"
  },
  "language_info": {
   "codemirror_mode": {
    "name": "ipython",
    "version": 3
   },
   "file_extension": ".py",
   "mimetype": "text/x-python",
   "name": "python",
   "nbconvert_exporter": "python",
   "pygments_lexer": "ipython3",
   "version": "3.5.3"
  }
 },
 "nbformat": 4,
 "nbformat_minor": 2
}
